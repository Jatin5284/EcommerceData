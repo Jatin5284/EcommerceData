{
 "cells": [
  {
   "cell_type": "code",
   "execution_count": 4,
   "id": "f1c41c82-5e07-4d66-8236-1d21ab2ecee7",
   "metadata": {},
   "outputs": [
    {
     "name": "stdout",
     "output_type": "stream",
     "text": [
      "  customer_id           name       city                      email  \\\n",
      "0        C001    Aarav Patel     Mumbai    aarav.patel@example.com   \n",
      "1        C002  Saanvi Sharma      Delhi  saanvi.sharma@example.com   \n",
      "2        C003   Vivaan Gupta  Bengaluru   vivaan.gupta@example.com   \n",
      "3        C004     Isha Reddy  Hyderabad     isha.reddy@example.com   \n",
      "4        C005    Arjun Kumar    Chennai    arjun.kumar@example.com   \n",
      "\n",
      "       phone_no             address  pin_code  \n",
      "0  987-654-3210     12 Marine Drive    400020  \n",
      "1  876-543-2109  45 Connaught Place    110001  \n",
      "2  765-432-1098     78 Brigade Road    560001  \n",
      "3  654-321-0987    23 Banjara Hills    500034  \n",
      "4  543-210-9876     56 Nungambakkam    600034  \n",
      "  product_id          product_name         category   sub_category  \\\n",
      "0       P001            Smartphone      Electronics  Mobile Phones   \n",
      "1       P002                Laptop      Electronics      Computers   \n",
      "2       P003          Coffee Maker  Home Appliances        Kitchen   \n",
      "3       P004  Bluetooth Headphones      Electronics          Audio   \n",
      "4       P005         Running Shoes         Footwear         Sports   \n",
      "\n",
      "   original_price  selling_price  stock  \n",
      "0          299.99         249.99     50  \n",
      "1          799.99         749.99     30  \n",
      "2           89.99          79.99    100  \n",
      "3          129.99          99.99     75  \n",
      "4           59.99          49.99    200  \n",
      "   order_id customer_id product_id  quantity  total_price payment_mode  \\\n",
      "0         1        C001       P001       1.0       249.99  Credit Card   \n",
      "1         2        C002       P005       2.0        99.98   Debit Card   \n",
      "2         3        C003       P012       1.0       349.99  Net Banking   \n",
      "3         4        C004       P003       3.0       239.97         Cash   \n",
      "4         5        C005       P007       1.0      1099.99  Credit Card   \n",
      "\n",
      "           order_date order_status  \n",
      "0 2024-08-23 10:00:00    Delivered  \n",
      "1 2024-08-23 11:00:00      Shipped  \n",
      "2 2024-08-23 12:00:00   Processing  \n",
      "3 2024-08-23 09:45:00    Delivered  \n",
      "4 2024-08-22 16:30:00      Shipped  \n"
     ]
    }
   ],
   "source": [
    "\n",
    "import mysql.connector\n",
    "import pandas as pd\n",
    "# Replace 'your_username', 'your_password', 'your_host', and 'your_database' with actual credentials\n",
    "connection = mysql.connector.connect(\n",
    "user='root',\n",
    "password='JATIN@5284',\n",
    "host='localhost',\n",
    "database='ecommerce'\n",
    ")\n",
    "# Create a cursor object to execute SQL queries\n",
    "cursor = connection.cursor()\n",
    "# Query data from the 'customer' table\n",
    "cursor.execute('SELECT * FROM customer')\n",
    "#After fetching data from the database we are storing it into Pandas DataFrame\n",
    "customer_data = pd.DataFrame(cursor.fetchall(), columns=[desc[0] for desc in\n",
    "cursor.description])\n",
    "# Query data from the 'product' table\n",
    "cursor.execute('SELECT * FROM product')\n",
    "product_data = pd.DataFrame(cursor.fetchall(), columns=[desc[0] for desc in\n",
    "cursor.description])\n",
    "# Query data from the 'order_details' table\n",
    "cursor.execute('SELECT * FROM order_details')\n",
    "order_data = pd.DataFrame(cursor.fetchall(), columns=[desc[0] for desc in\n",
    "cursor.description])\n",
    "#printing first 5 records from each table\n",
    "print(customer_data.head())\n",
    "print(product_data.head())\n",
    "print(order_data.head())"
   ]
  },
  {
   "cell_type": "code",
   "execution_count": null,
   "id": "e6eeb28e-7e9d-4fb1-9e1d-afab16a75637",
   "metadata": {},
   "outputs": [],
   "source": []
  }
 ],
 "metadata": {
  "kernelspec": {
   "display_name": "Python 3 (ipykernel)",
   "language": "python",
   "name": "python3"
  },
  "language_info": {
   "codemirror_mode": {
    "name": "ipython",
    "version": 3
   },
   "file_extension": ".py",
   "mimetype": "text/x-python",
   "name": "python",
   "nbconvert_exporter": "python",
   "pygments_lexer": "ipython3",
   "version": "3.12.3"
  }
 },
 "nbformat": 4,
 "nbformat_minor": 5
}
